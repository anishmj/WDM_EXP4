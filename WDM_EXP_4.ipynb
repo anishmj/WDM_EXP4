{
  "nbformat": 4,
  "nbformat_minor": 0,
  "metadata": {
    "colab": {
      "private_outputs": true,
      "provenance": []
    },
    "kernelspec": {
      "name": "python3",
      "display_name": "Python 3"
    },
    "language_info": {
      "name": "python"
    }
  },
  "cells": [
    {
      "cell_type": "code",
      "execution_count": null,
      "metadata": {
        "id": "-xKACqhTL0dA"
      },
      "outputs": [],
      "source": [
        "\n",
        "# Importing required libraries\n",
        "\n",
        "import pandas as pd\n",
        "import matplotlib.pyplot as plt\n",
        "\n"
      ]
    },
    {
      "cell_type": "code",
      "source": [],
      "metadata": {
        "id": "cb7AMlKDMW5S"
      },
      "execution_count": null,
      "outputs": []
    },
    {
      "cell_type": "code",
      "source": [
        "# read the data\n",
        "visitors_df = pd.read_csv(\"clustervisitor.csv\")\n"
      ],
      "metadata": {
        "id": "J7n0acwgMOU3"
      },
      "execution_count": null,
      "outputs": []
    },
    {
      "cell_type": "code",
      "source": [
        "# Define age groups\n",
        "age_groups = {\n",
        "    'Young': (visitors_df['Age'] <= 30),\n",
        "    'Middle-aged': ((visitors_df['Age'] > 30) & (visitors_df['Age'] <= 50)),\n",
        "    'Elderly': (visitors_df['Age'] > 50)\n",
        "}"
      ],
      "metadata": {
        "id": "jLHUwml4MYIc"
      },
      "execution_count": null,
      "outputs": []
    },
    {
      "cell_type": "code",
      "source": [
        "# Print visitors in each age group\n",
        "for group, condition in age_groups.items():\n",
        "    visitors_in_group = visitors_df[condition]\n",
        "    print(f\"Visitors in {group} age group:\")\n",
        "    print(visitors_in_group)\n",
        "    print()"
      ],
      "metadata": {
        "id": "ZyJ7xNiOMZFs"
      },
      "execution_count": null,
      "outputs": []
    },
    {
      "cell_type": "code",
      "source": [
        "# Count visitors in each age group\n",
        "visitors_counts = []\n",
        "for group, condition in age_groups.items():\n",
        "    visitors_in_group = visitors_df[condition]\n",
        "    visitors_counts.append(len(visitors_in_group))\n"
      ],
      "metadata": {
        "id": "-PMKRmffMZQb"
      },
      "execution_count": null,
      "outputs": []
    },
    {
      "cell_type": "code",
      "source": [
        "# Plot the distribution of visitors across age groups\n",
        "age_group_labels = list(age_groups.keys())\n",
        "plt.figure(figsize=(8, 6))\n",
        "plt.bar(age_group_labels, visitors_counts, color='skyblue')\n",
        "plt.xlabel('Age Groups')\n",
        "plt.ylabel('Number of Visitors')\n",
        "plt.title('Visitor Distribution Across Age Groups')\n",
        "plt.show()\n"
      ],
      "metadata": {
        "id": "XgCLaVSJMZZX"
      },
      "execution_count": null,
      "outputs": []
    }
  ]
}